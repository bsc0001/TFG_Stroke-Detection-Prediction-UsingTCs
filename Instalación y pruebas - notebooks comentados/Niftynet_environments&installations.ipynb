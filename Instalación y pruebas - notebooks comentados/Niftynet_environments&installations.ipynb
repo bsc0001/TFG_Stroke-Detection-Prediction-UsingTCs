{
 "cells": [
  {
   "cell_type": "markdown",
   "metadata": {},
   "source": [
    "## Instalación y preparación de nuestra máquina para la ejecución de Niftynet, que crea una Red Neuronal Convolucional (CNN) para el entrenamiento y segmentación de TCs (escáner tridimensional biomédico) y arranque de Jupyter para su uso\n",
    "\n",
    "**Autor**: Bárbara Sainz Crespo, *Ingeniería Informática, Escuela Politécnica Superior, Universidad de Burgos*.\n",
    "\n",
    "**Fecha**: 2019/06/03\n",
    "\n",
    "**Descripción**: Creación de un entorno virtual e instalación del software de Niftynet, junto con los requisitos correspondientes. Se trata de utilizar este modelo enfocado en el entrenamiento (machine learning) para la segmentación de ROIs (regiones de interés) en imágenes TC. Finalmente, arrancaremos Jupyter en segundo plano en nuestra máquina, para poder conectarnos desde el navegador y trabajar en ellos más cómodamente y facilitando la documentación de dicho trabajo."
   ]
  },
  {
   "cell_type": "code",
   "execution_count": 1,
   "metadata": {},
   "outputs": [
    {
     "name": "stdout",
     "output_type": "stream",
     "text": [
      "Running virtualenv with interpreter /usr/local/anaconda3/bin/python3\n",
      "Using base prefix '/usr/local/anaconda3'\n",
      "New python executable in /home/bsc0001/niftynet/niftynet/bin/python3\n",
      "Also creating executable in /home/bsc0001/niftynet/niftynet/bin/python\n",
      "Installing setuptools, pip, wheel...\n",
      "done.\n"
     ]
    }
   ],
   "source": [
    "# Creación del entorno virtual.\n",
    "! virtualenv -p python3 niftynet"
   ]
  },
  {
   "cell_type": "code",
   "execution_count": null,
   "metadata": {},
   "outputs": [],
   "source": [
    "# Accedemos al entorno recién creado y lo activamos.\n",
    "% cd niftynet\n",
    "! source bin/activate"
   ]
  },
  {
   "cell_type": "markdown",
   "metadata": {},
   "source": [
    "A continuación, ya en el entorno virtual que hemos creado, debemos instalar la versión 1.11.0 de Tensorflow. Se trata de la versión que previamente hemos determinado y comprobado nos servirá correctamente para la ejecución y segmentación de este tipo de modelo.\n",
    "\n",
    "También instalaremos Niftynet para llevar a cabo nuestro cometido de entrenamiento y segmentación con imágenes TC.\n"
   ]
  },
  {
   "cell_type": "code",
   "execution_count": null,
   "metadata": {},
   "outputs": [],
   "source": [
    "# Instalar Tensorflow.\n",
    "! pip install tensorflow-gpu==1.11.0"
   ]
  },
  {
   "cell_type": "code",
   "execution_count": null,
   "metadata": {},
   "outputs": [],
   "source": [
    "# Instalar Niftynet.\n",
    "! pip install niftynet\n"
   ]
  },
  {
   "cell_type": "markdown",
   "metadata": {},
   "source": [
    "Finalmente, una vez la máquina está preparada con todas las instalaciones necesarias, procedemos a arrancar Jupyter en segundo plano dentro del entorno virtual recién creado, llamado niftynet en este caso.\n",
    "\n",
    "Una vez hecho eso, debe de crearse el fichero \"nohup.out\", que contiene la URL que ha de copiarse para utilizarse, sirviendo como token, y así poder conectarnos desde el navegador (al pegarla ahí) y comenzar a crear Jupyter notebooks dedicados a hacer uso de Niftynet, tal como se ha explicado que era el objetivo."
   ]
  },
  {
   "cell_type": "code",
   "execution_count": null,
   "metadata": {},
   "outputs": [],
   "source": [
    "# Arrancar Jupyter en segundo plano.\n",
    "! nohup jupyter notebook --ip=10.168.168.34 --no-browser &"
   ]
  },
  {
   "cell_type": "code",
   "execution_count": null,
   "metadata": {},
   "outputs": [],
   "source": [
    "# Comprobar que se ha generado el fichero nohup.out y mostrarlo para ver y copiar la URL de acceso en el navegador.\n",
    "! ls\n",
    "! cat nohup.out"
   ]
  }
 ],
 "metadata": {
  "kernelspec": {
   "display_name": "Python 3",
   "language": "python",
   "name": "python3"
  },
  "language_info": {
   "codemirror_mode": {
    "name": "ipython",
    "version": 3
   },
   "file_extension": ".py",
   "mimetype": "text/x-python",
   "name": "python",
   "nbconvert_exporter": "python",
   "pygments_lexer": "ipython3",
   "version": "3.6.7"
  }
 },
 "nbformat": 4,
 "nbformat_minor": 2
}
